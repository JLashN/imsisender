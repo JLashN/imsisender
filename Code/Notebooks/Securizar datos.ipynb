{
 "cells": [
  {
   "cell_type": "markdown",
   "metadata": {},
   "source": [
    "<h1>Encriptado de imsis</h1>\n",
    "<h2>Librerias</h2>\n",
    "<p>En primer lugar, importamos las librerias necesarias.</p>"
   ]
  },
  {
   "cell_type": "code",
   "execution_count": null,
   "metadata": {},
   "outputs": [],
   "source": [
    "import numpy as np #Libreria matemática\n",
    "import hashlib #libreria de hashes\n",
    "import json #Libreria para dumpear diccionarios\n",
    "import time #Libreria para calcular cuanto le cuesta hacer las cosas\n",
    "import socket #Para la conexión con el servidor\n",
    "# Las librerias de abajo son las librerias para encriptar el mensaje antes de mandarlo\n",
    "import cryptography as crypt\n",
    "from cryptography.hazmat.backends import default_backend\n",
    "from cryptography.hazmat.primitives.asymmetric import rsa\n",
    "from cryptography.hazmat.primitives import hashes\n",
    "from cryptography.hazmat.primitives.asymmetric import padding\n",
    "from cryptography.hazmat.primitives import serialization"
   ]
  },
  {
   "cell_type": "markdown",
   "metadata": {},
   "source": [
    "<h2>Generación de imsi aleatorio</h2>\n",
    "<p>Ahora vamos a generar un imsi aleatorio. Para eso veamos la estructura del imsi. Son 3 digitos del MCC (Código del operador), luego 2 o 3 dígitos del MNC (Código del pais) y luego 10 digitos del MSIN (que es la parte que nos identifica como usuarios.</p>\n"
   ]
  },
  {
   "cell_type": "code",
   "execution_count": 2,
   "metadata": {},
   "outputs": [
    {
     "name": "stdout",
     "output_type": "stream",
     "text": [
      "El imsi generado es 151452598322403\n"
     ]
    }
   ],
   "source": [
    "listadigitos = np.random.randint(0,10,size=(15,1)).flatten()\n",
    "IMSI = []\n",
    "for i in listadigitos:\n",
    "    IMSI.append(str(i))\n",
    "IMSI = \"\".join(IMSI)\n",
    "print(\"El imsi generado es\",IMSI)"
   ]
  },
  {
   "cell_type": "markdown",
   "metadata": {},
   "source": [
    "<p>Para que sea facil crear IMSIs, creamos una función.<p>"
   ]
  },
  {
   "cell_type": "code",
   "execution_count": 3,
   "metadata": {},
   "outputs": [],
   "source": [
    "def generarIMSI():\n",
    "    listadigitos = np.random.randint(0,10,size=(15,1)).flatten()\n",
    "    IMSI = []\n",
    "    for i in listadigitos:\n",
    "        IMSI.append(str(i))\n",
    "    IMSI = \"\".join(IMSI)\n",
    "    return IMSI"
   ]
  },
  {
   "cell_type": "markdown",
   "metadata": {},
   "source": [
    "<h2>Procesado del IMSI</h2>\n",
    "<p>Para procesar el IMSI, vamos a aplicarle un hash a este (que es una función inyectiva. Esto lo vamos a hacer después de sacar el código del Pais y del Operador.</p>"
   ]
  },
  {
   "cell_type": "code",
   "execution_count": 4,
   "metadata": {},
   "outputs": [],
   "source": [
    "def procesarIMSI(imsi):\n",
    "    procesado = {}\n",
    "    procesado[\"MCC\"] = imsi[:3] #El MCC son los 3 primeros dígitos\n",
    "    procesado[\"MNC\"] = imsi[3:5]\n",
    "    procesado[\"Hash\"] = hashlib.sha3_256(imsi.encode(\"ASCII\")).hexdigest() #Creamos un hash con sha3_256 que es muy seguro\n",
    "    return procesado"
   ]
  },
  {
   "cell_type": "markdown",
   "metadata": {},
   "source": [
    "<h2>Encriptado del mensaje enviado</h2>\n",
    "<p>Ahora vamos a encriptar el mensaje que se manda al servidor. Para eso vamos a generar en primer lugar una clave pública y una clave privada.</p>"
   ]
  },
  {
   "cell_type": "code",
   "execution_count": null,
   "metadata": {},
   "outputs": [],
   "source": [
    "private_key = rsa.generate_private_key(\n",
    "    public_exponent=65537,\n",
    "    key_size=2048,\n",
    "    backend=default_backend()\n",
    ")\n",
    "public_key = private_key.public_key()"
   ]
  },
  {
   "cell_type": "markdown",
   "metadata": {},
   "source": [
    "<p>Vamos a necesitar la clave privada en el servidor así que hacemos una función para guardar la clave y otra para leerla.</p>"
   ]
  },
  {
   "cell_type": "code",
   "execution_count": 5,
   "metadata": {},
   "outputs": [],
   "source": [
    "def guardarClavePrivada(private_key,nombrearchivo):\n",
    "    pem = private_key.private_bytes(\n",
    "        encoding=serialization.Encoding.PEM,\n",
    "        format=serialization.PrivateFormat.PKCS8,\n",
    "        encryption_algorithm=serialization.NoEncryption()\n",
    "    )\n",
    "    with open(nombrearchivo, 'wb') as f:\n",
    "        f.write(pem)"
   ]
  },
  {
   "cell_type": "code",
   "execution_count": 6,
   "metadata": {},
   "outputs": [],
   "source": [
    "def leerClavePrivada(nombrearchivo):\n",
    "    with open(nombrearchivo, \"rb\") as key_file:\n",
    "        private_key = serialization.load_pem_private_key(\n",
    "            key_file.read(),\n",
    "            password=None,\n",
    "            backend=default_backend()\n",
    "        )\n",
    "    return private_key"
   ]
  },
  {
   "cell_type": "markdown",
   "metadata": {},
   "source": [
    "<p>Ahora hacemos lo mismo con las claves públicas, ya que necesitamos la clave pública asociada a la clave privada.</p>"
   ]
  },
  {
   "cell_type": "code",
   "execution_count": 7,
   "metadata": {},
   "outputs": [],
   "source": [
    "def guardarClavePublica(public_key,nombrearchivo):\n",
    "    pem = public_key.public_bytes(\n",
    "        encoding=serialization.Encoding.PEM,\n",
    "        format=serialization.PublicFormat.SubjectPublicKeyInfo\n",
    "    )\n",
    "    with open(nombrearchivo, 'wb') as f:\n",
    "        f.write(pem)"
   ]
  },
  {
   "cell_type": "code",
   "execution_count": 8,
   "metadata": {},
   "outputs": [],
   "source": [
    "def leerClavePublica(nombrearchivo):\n",
    "    with open(nombrearchivo, \"rb\") as key_file:\n",
    "        public_key = serialization.load_pem_public_key(\n",
    "            key_file.read(),\n",
    "            backend=default_backend()\n",
    "        )\n",
    "    return public_key"
   ]
  },
  {
   "cell_type": "markdown",
   "metadata": {},
   "source": [
    "<p>A continuación, probamos a guardar y a leer las claves publicas y privadas. Primero, guardamos las claves.</p>"
   ]
  },
  {
   "cell_type": "code",
   "execution_count": 9,
   "metadata": {},
   "outputs": [
    {
     "ename": "NameError",
     "evalue": "name 'public_key' is not defined",
     "output_type": "error",
     "traceback": [
      "\u001b[1;31m---------------------------------------------------------------------------\u001b[0m",
      "\u001b[1;31mNameError\u001b[0m                                 Traceback (most recent call last)",
      "\u001b[1;32m<ipython-input-9-0a359fa57a1a>\u001b[0m in \u001b[0;36m<module>\u001b[1;34m\u001b[0m\n\u001b[1;32m----> 1\u001b[1;33m \u001b[0mguardarClavePublica\u001b[0m\u001b[1;33m(\u001b[0m\u001b[0mpublic_key\u001b[0m\u001b[1;33m,\u001b[0m\u001b[1;34m\"public_key.pem\"\u001b[0m\u001b[1;33m)\u001b[0m\u001b[1;33m\u001b[0m\u001b[1;33m\u001b[0m\u001b[0m\n\u001b[0m\u001b[0;32m      2\u001b[0m \u001b[0mguardarClavePrivada\u001b[0m\u001b[1;33m(\u001b[0m\u001b[0mprivate_key\u001b[0m\u001b[1;33m,\u001b[0m\u001b[1;34m\"private_key.pem\"\u001b[0m\u001b[1;33m)\u001b[0m\u001b[1;33m\u001b[0m\u001b[1;33m\u001b[0m\u001b[0m\n",
      "\u001b[1;31mNameError\u001b[0m: name 'public_key' is not defined"
     ]
    }
   ],
   "source": [
    "guardarClavePublica(public_key,\"public_key.pem\")\n",
    "guardarClavePrivada(private_key,\"private_key.pem\")"
   ]
  },
  {
   "cell_type": "markdown",
   "metadata": {},
   "source": [
    "<p>Ahora, leemos las claves de los archivos que hemos guardado.</p>"
   ]
  },
  {
   "cell_type": "code",
   "execution_count": 10,
   "metadata": {},
   "outputs": [],
   "source": [
    "public_key = leerClavePublica(\"public_key.pem\")\n",
    "private_key = leerClavePrivada(\"private_key.pem\")"
   ]
  },
  {
   "cell_type": "markdown",
   "metadata": {},
   "source": [
    "<p>Ahora creamos una función para encriptar y otra para desencriptar.</p>"
   ]
  },
  {
   "cell_type": "code",
   "execution_count": 11,
   "metadata": {},
   "outputs": [],
   "source": [
    "def encriptar(public_key,message):\n",
    "    encrypted = public_key.encrypt(\n",
    "        message.encode(\"ASCII\"),\n",
    "        padding.OAEP(\n",
    "            mgf=padding.MGF1(algorithm=hashes.SHA256()),\n",
    "            algorithm=hashes.SHA256(),\n",
    "            label=None\n",
    "        )\n",
    "    )\n",
    "    return encrypted"
   ]
  },
  {
   "cell_type": "code",
   "execution_count": 12,
   "metadata": {},
   "outputs": [],
   "source": [
    "def desencriptar(private_key,encrypted):\n",
    "    message = private_key.decrypt(\n",
    "        encrypted.encode(\"ASCII\"),\n",
    "        padding.OAEP(\n",
    "            mgf=padding.MGF1(algorithm=hashes.SHA256()),\n",
    "            algorithm=hashes.SHA256(),\n",
    "            label=None\n",
    "        )\n",
    "    )\n",
    "    return message.decode(\"ASCII\")"
   ]
  },
  {
   "cell_type": "markdown",
   "metadata": {},
   "source": [
    "<h2>Envio del dato encriptado</h2>\n",
    "<p>Vamos a crear una función que envie a través de un socket los datos encriptados. Para eso vamos a establecer un pequeño protocolo:\n",
    "<ul>\n",
    "    <li>Para comenzar la conexión pondremos START CONECTION. El servidor contestará CONECTION STARTED o ERROR.</li>\n",
    "    <li>Para enviar un diccionario de imsi encriptado pondremos IMSI diccionario. El servidor contestará OK o ERROR.</li>\n",
    "    <li>Para cerrar la conexión enviaremos STOP CONECTION. El servidor no contestará.</li>\n",
    "</ul>\n",
    "</p>"
   ]
  },
  {
   "cell_type": "code",
   "execution_count": 13,
   "metadata": {},
   "outputs": [],
   "source": [
    "class ComunicationError(ValueError):\n",
    "    def __init__(self, message, *args):         \n",
    "        super(ComunicationError, self).__init__(message, *args)\n"
   ]
  },
  {
   "cell_type": "code",
   "execution_count": 14,
   "metadata": {},
   "outputs": [],
   "source": [
    "def enviarIMSIs(listaDeDiccionarios,HOST,PORT):\n",
    "    with socket.socket(socket.AF_INET, socket.SOCK_STREAM) as mi_socket:\n",
    "        tupla = (HOST, int(PORT))\n",
    "        \n",
    "        #Defino el protocolo\n",
    "        protocolo = {}\n",
    "        protocolo[\"INICIO_SEND\"] = \"START CONECTION\"\n",
    "        protocolo[\"INICIO_RECEIVE\"] = \"CONECTION STARTED\"\n",
    "        protocolo[\"IMSI_SEND\"] = \"IMSI \"\n",
    "        protocolo[\"IMSI_RECEIVE\"] = \"OK\"\n",
    "        protocolo[\"FIN_SEND\"] = \"STOP CONECTION\"\n",
    "        \n",
    "        mi_socket.connect(tupla)\n",
    "        mi_socket.sendall(bytes(protocolo[\"INICIO_SEND\"], encoding='utf8'))\n",
    "        \n",
    "        dato_recibido_en_bytes = mi_socket.recv(1024)\n",
    "        dato_recibido_en_str = dato_recibido_en_bytes.decode(\"utf-8\")\n",
    "        if dato_recibido_en_str[:len(protocolo[\"INICIO_RECEIVE\"])] == protocolo[\"INICIO_RECEIVE\"]:\n",
    "            print(\"Comunicación iniciada\")\n",
    "        else:\n",
    "            raise ComunicationError(\"Ha habido un error al iniciar la comunicación con el protocolo.\")\n",
    "        for i in listaDeDiccionarios:\n",
    "            mi_socket.sendall(bytes(protocolo[\"IMSI_SEND\"]+str(i), encoding='utf8'))\n",
    "            dato_recibido_en_bytes = mi_socket.recv(1024)\n",
    "            dato_recibido_en_str = dato_recibido_en_bytes.decode(\"utf-8\")\n",
    "            if dato_recibido_en_str[:len(protocolo[\"IMSI_RECEIVE\"])] == protocolo[\"IMSI_RECEIVE\"]:\n",
    "                print(\"Diccionario enviado\")\n",
    "            else:\n",
    "                raise ComunicationError(\"Ha habido un error al enviar un diccionario.\")\n",
    "        mi_socket.sendall(bytes(protocolo[\"FIN_SEND\"], encoding='utf8'))\n",
    "        time.sleep(1)"
   ]
  },
  {
   "cell_type": "markdown",
   "metadata": {},
   "source": [
    "<h2>Prueba final</h2>"
   ]
  },
  {
   "cell_type": "code",
   "execution_count": 22,
   "metadata": {},
   "outputs": [],
   "source": [
    "listaaenviar = []\n",
    "for i in range(100):\n",
    "    imsi = generarIMSI()\n",
    "    procesado = procesarIMSI(imsi)\n",
    "    encriptada = encriptar(public_key,json.dumps(procesado))\n",
    "    listaaenviar.append(encriptada)\n"
   ]
  },
  {
   "cell_type": "code",
   "execution_count": 23,
   "metadata": {},
   "outputs": [
    {
     "name": "stdout",
     "output_type": "stream",
     "text": [
      "Comunicación iniciada\n",
      "Diccionario enviado\n",
      "Diccionario enviado\n",
      "Diccionario enviado\n",
      "Diccionario enviado\n",
      "Diccionario enviado\n",
      "Diccionario enviado\n",
      "Diccionario enviado\n",
      "Diccionario enviado\n",
      "Diccionario enviado\n",
      "Diccionario enviado\n",
      "Diccionario enviado\n",
      "Diccionario enviado\n",
      "Diccionario enviado\n",
      "Diccionario enviado\n",
      "Diccionario enviado\n",
      "Diccionario enviado\n",
      "Diccionario enviado\n",
      "Diccionario enviado\n",
      "Diccionario enviado\n",
      "Diccionario enviado\n",
      "Diccionario enviado\n",
      "Diccionario enviado\n",
      "Diccionario enviado\n",
      "Diccionario enviado\n",
      "Diccionario enviado\n",
      "Diccionario enviado\n",
      "Diccionario enviado\n",
      "Diccionario enviado\n",
      "Diccionario enviado\n",
      "Diccionario enviado\n",
      "Diccionario enviado\n",
      "Diccionario enviado\n",
      "Diccionario enviado\n",
      "Diccionario enviado\n",
      "Diccionario enviado\n",
      "Diccionario enviado\n",
      "Diccionario enviado\n",
      "Diccionario enviado\n",
      "Diccionario enviado\n",
      "Diccionario enviado\n",
      "Diccionario enviado\n",
      "Diccionario enviado\n",
      "Diccionario enviado\n",
      "Diccionario enviado\n",
      "Diccionario enviado\n",
      "Diccionario enviado\n",
      "Diccionario enviado\n",
      "Diccionario enviado\n",
      "Diccionario enviado\n",
      "Diccionario enviado\n",
      "Diccionario enviado\n",
      "Diccionario enviado\n",
      "Diccionario enviado\n",
      "Diccionario enviado\n",
      "Diccionario enviado\n",
      "Diccionario enviado\n",
      "Diccionario enviado\n",
      "Diccionario enviado\n",
      "Diccionario enviado\n",
      "Diccionario enviado\n",
      "Diccionario enviado\n",
      "Diccionario enviado\n",
      "Diccionario enviado\n",
      "Diccionario enviado\n",
      "Diccionario enviado\n",
      "Diccionario enviado\n",
      "Diccionario enviado\n",
      "Diccionario enviado\n",
      "Diccionario enviado\n",
      "Diccionario enviado\n",
      "Diccionario enviado\n",
      "Diccionario enviado\n",
      "Diccionario enviado\n",
      "Diccionario enviado\n",
      "Diccionario enviado\n",
      "Diccionario enviado\n",
      "Diccionario enviado\n",
      "Diccionario enviado\n",
      "Diccionario enviado\n",
      "Diccionario enviado\n",
      "Diccionario enviado\n",
      "Diccionario enviado\n",
      "Diccionario enviado\n",
      "Diccionario enviado\n",
      "Diccionario enviado\n",
      "Diccionario enviado\n",
      "Diccionario enviado\n",
      "Diccionario enviado\n",
      "Diccionario enviado\n",
      "Diccionario enviado\n",
      "Diccionario enviado\n",
      "Diccionario enviado\n",
      "Diccionario enviado\n",
      "Diccionario enviado\n",
      "Diccionario enviado\n",
      "Diccionario enviado\n",
      "Diccionario enviado\n",
      "Diccionario enviado\n",
      "Diccionario enviado\n",
      "Diccionario enviado\n"
     ]
    }
   ],
   "source": [
    "enviar = True\n",
    "while enviar:\n",
    "    try:\n",
    "        enviarIMSIs(listaaenviar,\"localhost\",\"9999\")\n",
    "        break\n",
    "    except:\n",
    "        print(\"Lo intento de nuevo\")"
   ]
  },
  {
   "cell_type": "code",
   "execution_count": null,
   "metadata": {},
   "outputs": [],
   "source": []
  },
  {
   "cell_type": "code",
   "execution_count": null,
   "metadata": {},
   "outputs": [],
   "source": []
  }
 ],
 "metadata": {
  "kernelspec": {
   "display_name": "Python 3",
   "language": "python",
   "name": "python3"
  },
  "language_info": {
   "codemirror_mode": {
    "name": "ipython",
    "version": 3
   },
   "file_extension": ".py",
   "mimetype": "text/x-python",
   "name": "python",
   "nbconvert_exporter": "python",
   "pygments_lexer": "ipython3",
   "version": "3.7.3"
  }
 },
 "nbformat": 4,
 "nbformat_minor": 2
}
